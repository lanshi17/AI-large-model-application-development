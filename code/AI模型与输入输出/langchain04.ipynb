{
 "cells": [
  {
   "cell_type": "code",
   "execution_count": 3,
   "id": "bc38bd45",
   "metadata": {},
   "outputs": [
    {
     "data": {
      "text/plain": [
       "True"
      ]
     },
     "execution_count": 3,
     "metadata": {},
     "output_type": "execute_result"
    }
   ],
   "source": [
    "import os\n",
    "from langchain_openai import ChatOpenAI\n",
    "from langchain.prompts import FewShotChatMessagePromptTemplate,ChatPromptTemplate\n",
    "from langchain.output_parsers import CommaSeparatedListOutputParser\n",
    "from IPython.display import display,display_markdown\n",
    "from pydantic import SecretStr\n",
    "from dotenv import load_dotenv\n",
    "# 加载 .env 文件\n",
    "load_dotenv()"
   ]
  },
  {
   "cell_type": "code",
   "execution_count": 2,
   "id": "260f35ee",
   "metadata": {},
   "outputs": [],
   "source": [
    "model=ChatOpenAI(model=\"qwen-turbo\",\n",
    "                 api_key=SecretStr(os.getenv(\"DASHSCOPE_API_KEY\")),\n",
    "                 base_url=os.getenv(\"BASE_URL\"),\n",
    "                 temperature=0.3,\n",
    "                 frequency_penalty=1.5\n",
    "                )"
   ]
  },
  {
   "cell_type": "code",
   "execution_count": 4,
   "id": "34eb8b8b",
   "metadata": {},
   "outputs": [],
   "source": [
    "prompt=ChatPromptTemplate.from_messages([\n",
    "    (\"system\",\"{parser_instructions}\"),\n",
    "    (\"human\",\"列出5个{subject}色系的hex编码\")\n",
    "]\n",
    ")"
   ]
  },
  {
   "cell_type": "code",
   "execution_count": 5,
   "id": "08c5ed10",
   "metadata": {},
   "outputs": [
    {
     "data": {
      "text/plain": [
       "'Your response should be a list of comma separated values, eg: `foo, bar, baz` or `foo,bar,baz`'"
      ]
     },
     "metadata": {},
     "output_type": "display_data"
    }
   ],
   "source": [
    "output_parser=CommaSeparatedListOutputParser()\n",
    "parser_instructions=output_parser.get_format_instructions()\n",
    "display(parser_instructions)"
   ]
  },
  {
   "cell_type": "code",
   "execution_count": 7,
   "id": "f089d1da",
   "metadata": {},
   "outputs": [],
   "source": [
    "final_prompt=prompt.invoke(\n",
    "    {\n",
    "        \"subject\":\"莫兰迪\",\n",
    "        \"parser_instructions\":parser_instructions\n",
    "    }\n",
    ")"
   ]
  },
  {
   "cell_type": "code",
   "execution_count": 10,
   "id": "6a542e06",
   "metadata": {},
   "outputs": [
    {
     "data": {
      "text/markdown": [
       "#6E7E8A,#93A0A6,#C5CDD5,#D4DCE3,#E6EAF0"
      ]
     },
     "metadata": {},
     "output_type": "display_data"
    }
   ],
   "source": [
    "response=model.invoke(final_prompt)\n",
    "display_markdown(response.content,raw=True)"
   ]
  },
  {
   "cell_type": "code",
   "execution_count": 11,
   "id": "3d6e4b1b",
   "metadata": {},
   "outputs": [
    {
     "data": {
      "text/plain": [
       "['#6E7E8A', '#93A0A6', '#C5CDD5', '#D4DCE3', '#E6EAF0']"
      ]
     },
     "execution_count": 11,
     "metadata": {},
     "output_type": "execute_result"
    }
   ],
   "source": [
    "output_parser.invoke(response)"
   ]
  },
  {
   "cell_type": "code",
   "execution_count": 12,
   "id": "c3523ae9",
   "metadata": {},
   "outputs": [
    {
     "data": {
      "text/plain": [
       "list"
      ]
     },
     "execution_count": 12,
     "metadata": {},
     "output_type": "execute_result"
    }
   ],
   "source": [
    "type(output_parser.invoke(response))"
   ]
  },
  {
   "cell_type": "code",
   "execution_count": null,
   "id": "bfb982e1",
   "metadata": {},
   "outputs": [],
   "source": []
  }
 ],
 "metadata": {
  "kernelspec": {
   "display_name": "langchain",
   "language": "python",
   "name": "python3"
  },
  "language_info": {
   "codemirror_mode": {
    "name": "ipython",
    "version": 3
   },
   "file_extension": ".py",
   "mimetype": "text/x-python",
   "name": "python",
   "nbconvert_exporter": "python",
   "pygments_lexer": "ipython3",
   "version": "3.10.18"
  }
 },
 "nbformat": 4,
 "nbformat_minor": 5
}

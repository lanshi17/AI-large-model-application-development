{
 "cells": [
  {
   "cell_type": "code",
   "execution_count": 6,
   "id": "bc38bd45",
   "metadata": {},
   "outputs": [
    {
     "data": {
      "text/plain": [
       "True"
      ]
     },
     "execution_count": 6,
     "metadata": {},
     "output_type": "execute_result"
    }
   ],
   "source": [
    "import os\n",
    "from langchain_openai import ChatOpenAI\n",
    "from langchain.prompts import FewShotChatMessagePromptTemplate,ChatPromptTemplate\n",
    "from langchain.output_parsers import CommaSeparatedListOutputParser,PydanticOutputParser\n",
    "from pydantic import BaseModel,Field\n",
    "from typing import List\n",
    "from IPython.display import display,display_markdown,display_json\n",
    "from pydantic import SecretStr\n",
    "from dotenv import load_dotenv\n",
    "# 加载 .env 文件\n",
    "load_dotenv()"
   ]
  },
  {
   "cell_type": "code",
   "execution_count": 7,
   "id": "260f35ee",
   "metadata": {},
   "outputs": [],
   "source": [
    "model=ChatOpenAI(model=\"qwen-turbo\",\n",
    "                 api_key=SecretStr(os.getenv(\"DASHSCOPE_API_KEY\")),\n",
    "                 base_url=os.getenv(\"BASE_URL\"),\n",
    "                 temperature=0.3,\n",
    "                 frequency_penalty=1.5\n",
    "                )"
   ]
  },
  {
   "cell_type": "code",
   "execution_count": 8,
   "id": "232896e8",
   "metadata": {},
   "outputs": [],
   "source": [
    "prompt=ChatPromptTemplate.from_messages([\n",
    "    (\"system\",\"{parser_instructions}\"),\n",
    "    (\"human\",\"列出5个{subject}色系的hex编码\")\n",
    "]\n",
    ")\n",
    "output_parser=CommaSeparatedListOutputParser()\n",
    "parser_instructions=output_parser.get_format_instructions()"
   ]
  },
  {
   "cell_type": "code",
   "execution_count": 11,
   "id": "aba23789",
   "metadata": {},
   "outputs": [
    {
     "data": {
      "text/plain": [
       "['#898989', '#B8B8B8', '#D4D4D4', '#C5C5C5', '#A6A6A6']"
      ]
     },
     "metadata": {},
     "output_type": "display_data"
    }
   ],
   "source": [
    "result=(prompt|model|output_parser).invoke(\n",
    "    {\"subject\":\"莫兰迪\",\n",
    "     \"parser_instructions\":parser_instructions}\n",
    ")\n",
    "display(result)"
   ]
  },
  {
   "cell_type": "code",
   "execution_count": null,
   "id": "daf24cd7",
   "metadata": {},
   "outputs": [],
   "source": []
  }
 ],
 "metadata": {
  "kernelspec": {
   "display_name": "langchain",
   "language": "python",
   "name": "python3"
  },
  "language_info": {
   "codemirror_mode": {
    "name": "ipython",
    "version": 3
   },
   "file_extension": ".py",
   "mimetype": "text/x-python",
   "name": "python",
   "nbconvert_exporter": "python",
   "pygments_lexer": "ipython3",
   "version": "3.10.18"
  }
 },
 "nbformat": 4,
 "nbformat_minor": 5
}

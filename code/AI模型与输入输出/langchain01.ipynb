{
 "cells": [
  {
   "cell_type": "code",
   "execution_count": 20,
   "id": "7ef9e981",
   "metadata": {},
   "outputs": [
    {
     "data": {
      "text/plain": [
       "True"
      ]
     },
     "execution_count": 20,
     "metadata": {},
     "output_type": "execute_result"
    }
   ],
   "source": [
    "import os\n",
    "from langchain_openai import ChatOpenAI\n",
    "from IPython.display import display, Markdown, Image\n",
    "from pydantic import SecretStr\n",
    "from langchain.schema.messages import (SystemMessage,HumanMessage)\n",
    "from dotenv import load_dotenv\n",
    "# 加载 .env 文件\n",
    "load_dotenv()"
   ]
  },
  {
   "cell_type": "code",
   "execution_count": 15,
   "id": "3e414dbe",
   "metadata": {},
   "outputs": [],
   "source": [
    "model=ChatOpenAI(model=\"qwen-turbo\",\n",
    "                 api_key=SecretStr(os.getenv(\"DASHSCOPE_API_KEY\")),\n",
    "                 base_url=os.getenv(\"BASE_URL\"),\n",
    "                 temperature=0.3,\n",
    "                 frequency_penalty=1.5\n",
    "                )\n"
   ]
  },
  {
   "cell_type": "code",
   "execution_count": 21,
   "id": "be121160",
   "metadata": {},
   "outputs": [
    {
     "data": {
      "text/markdown": [
       "波粒二象性是量子力学中一个非常重要的概念，它指的是**光（以及所有微观粒子）既像波，又像粒子**。听起来有点矛盾，但这是现代物理学对自然界最深刻的理解之一。\n",
       "\n",
       "---\n",
       "\n",
       "## 🌊 什么是“波”？\n",
       "\n",
       "在我们日常生活中，波的例子有很多，比如：\n",
       "\n",
       "- 水波：当你把石头扔进水里，水面会形成一圈圈的波纹。\n",
       "- 声波：声音是通过空气传播的波动。\n",
       "- 光波：光也是一种电磁波，可以产生干涉、衍射等现象。\n",
       "\n",
       "这些波具有以下特点：\n",
       "- 可以叠加（如两列水波相遇时，会产生更大的波峰或抵消）\n",
       "- 可以传播到很远的地方\n",
       "- 有频率和波长\n",
       "\n",
       "---\n",
       "\n",
       "## 🎯 什么是“粒子”？\n",
       "\n",
       "粒子是像小球一样的东西，比如：\n",
       "\n",
       "- 电子\n",
       "- 质子\n",
       "- 光子（光的粒子）\n",
       "\n",
       "它们的特点是：\n",
       "- 有质量\n",
       "- 有位置\n",
       "- 可以被探测到\n",
       "- 在碰撞中表现出“颗粒”的特性\n",
       "\n",
       "---\n",
       "\n",
       "## 🌀 波粒二象性是什么意思？\n",
       "\n",
       "简单来说，**光（和其他微观粒子）既可以表现出波的性质，也可以表现出粒子的性质**，这取决于你如何观察它。\n",
       "\n",
       "### 🔬 实验例子：双缝实验\n",
       "\n",
       "1. **当光作为波来观察时**：\n",
       "   - 光通过两个狭缝后，会在屏幕上形成明暗相间的条纹（干涉图样），这说明光像波一样传播。\n",
       "\n",
       "2. **当光作为粒子来观察时**：\n",
       "   - 如果你用非常微弱的光源，让光子一个一个地发射，最终屏幕上也会出现明暗条纹，说明每个光子也像波一样“同时经过两个缝”。\n",
       "\n",
       "3. **如果你试图确定光子到底从哪个缝通过**：\n",
       "   - 那么干涉条纹就会消失，光子就表现得像粒子一样只走一条路。\n",
       "\n",
       "这说明：**光的行为取决于你如何测量它**。\n",
       "\n",
       "---\n",
       "\n",
       "## 🧪 其他粒子也有波粒二象性！\n",
       "\n",
       "不只是光，**电子、质子、甚至更大的分子**，在某些条件下也会表现出波的性质。\n",
       "\n",
       "例如：\n",
       "- 电子束通过双缝时，也会产生干涉图样。\n",
       "- 这说明电子也具有“波”的性质。\n",
       "\n",
       "---\n",
       "\n",
       "## 🧠 总结一下\n",
       "\n",
       "| 特性 | 波 | 粒子 |\n",
       "|------|----|------|\n",
       "| 干涉 | ✅ | ❌ |\n",
       "| 衍射 | ✅ | ❌ |\n",
       "| 碰撞 | ❌ | ✅ |\n",
       "| 位置 | 不确定 | 确定 |\n",
       "| 能量 | 分布在空间 | 集中在一点 |\n",
       "\n",
       "---\n",
       "\n",
       "## 💡 为什么重要？\n",
       "\n",
       "波粒二象性打破了我们对“物体到底是波还是粒子”的传统理解，是量子力学的基础。它告诉我们：\n",
       "\n",
       "> **微观世界的行为与我们日常经验完全不同**，必须用新的方式去理解和描述。\n",
       "\n",
       "---\n",
       "\n",
       "如果你还想了解“不确定性原理”、“量子态”或者“薛定谔的猫”，我也可以继续为你讲解！"
      ],
      "text/plain": [
       "<IPython.core.display.Markdown object>"
      ]
     },
     "metadata": {},
     "output_type": "display_data"
    }
   ],
   "source": [
    "messages=[\n",
    "    SystemMessage(content=\"请你作为我的物理课助教,用通俗易懂的语言解释物理概念.使用markdown形式\"),\n",
    "    HumanMessage(content=\"什么是波粒二象性?\"),\n",
    "]\n",
    "\n",
    "response=model.invoke(messages)\n",
    "display(Markdown(response.content))"
   ]
  },
  {
   "cell_type": "code",
   "execution_count": null,
   "id": "6b590650",
   "metadata": {},
   "outputs": [],
   "source": []
  }
 ],
 "metadata": {
  "kernelspec": {
   "display_name": "langchain",
   "language": "python",
   "name": "python3"
  },
  "language_info": {
   "codemirror_mode": {
    "name": "ipython",
    "version": 3
   },
   "file_extension": ".py",
   "mimetype": "text/x-python",
   "name": "python",
   "nbconvert_exporter": "python",
   "pygments_lexer": "ipython3",
   "version": "3.10.18"
  }
 },
 "nbformat": 4,
 "nbformat_minor": 5
}

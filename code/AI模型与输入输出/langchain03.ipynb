{
 "cells": [
  {
   "cell_type": "code",
   "execution_count": 17,
   "id": "923319c7",
   "metadata": {},
   "outputs": [
    {
     "data": {
      "text/plain": [
       "True"
      ]
     },
     "execution_count": 17,
     "metadata": {},
     "output_type": "execute_result"
    }
   ],
   "source": [
    "import os\n",
    "from langchain_openai import ChatOpenAI\n",
    "from langchain.prompts import FewShotChatMessagePromptTemplate,ChatPromptTemplate\n",
    "from IPython.display import display,display_markdown\n",
    "from pydantic import SecretStr\n",
    "from langchain.schema.messages import (SystemMessage,HumanMessage)\n",
    "from dotenv import load_dotenv\n",
    "# 加载 .env 文件\n",
    "load_dotenv()"
   ]
  },
  {
   "cell_type": "code",
   "execution_count": 18,
   "id": "8f123eee",
   "metadata": {},
   "outputs": [],
   "source": [
    "model=ChatOpenAI(model=\"qwen-turbo\",\n",
    "                 api_key=SecretStr(os.getenv(\"DASHSCOPE_API_KEY\")),\n",
    "                 base_url=os.getenv(\"BASE_URL\"),\n",
    "                 temperature=0.3,\n",
    "                 frequency_penalty=1.5\n",
    "                )"
   ]
  },
  {
   "cell_type": "code",
   "execution_count": 19,
   "id": "8feb37ad",
   "metadata": {},
   "outputs": [],
   "source": [
    "# 定义example_prompt\n",
    "example_prompt = ChatPromptTemplate.from_messages(\n",
    "    [\n",
    "        (\"human\", \"格式化以下客户信息:\\n姓名 -> {customer_name}\\n年龄 -> {customer_age}\\n城市 -> {customer_city}\"),\n",
    "        (\"ai\", \"##客户信息\\n- 客户姓名: {formatted_name}\\n- 客户年龄: {formatted_age}\\n- 客户所在地: {formatted_city}\")\n",
    "    ]\n",
    ")\n",
    "\n"
   ]
  },
  {
   "cell_type": "code",
   "execution_count": 20,
   "id": "5bfd33c3",
   "metadata": {},
   "outputs": [],
   "source": [
    "examples = [\n",
    "    {\n",
    "        \"customer_name\": \"张三\",\n",
    "        \"customer_age\": \"27\",\n",
    "        \"customer_city\": \"长沙\",\n",
    "        \"formatted_name\": \"张三\",\n",
    "        \"formatted_age\": \"27岁\",\n",
    "        \"formatted_city\": \"湖南省长沙市\"\n",
    "    },\n",
    "    {\n",
    "        \"customer_name\": \"李四\",\n",
    "        \"customer_age\": \"42\",\n",
    "        \"customer_city\": \"广州\",\n",
    "        \"formatted_name\": \"李四\",\n",
    "        \"formatted_age\": \"42岁\",\n",
    "        \"formatted_city\": \"广东省广州市\"\n",
    "    },\n",
    "    {\n",
    "         \"customer_name\": \"王五\",\n",
    "        \"customer_age\": \"35\",\n",
    "        \"customer_city\": \"长沙\",\n",
    "        \"formatted_name\": \"王五\",\n",
    "        \"formatted_age\": \"35岁\",\n",
    "        \"formatted_city\": \"湖南省长沙市\"\n",
    "    }\n",
    "]\n"
   ]
  },
  {
   "cell_type": "code",
   "execution_count": 21,
   "id": "23f341ee",
   "metadata": {},
   "outputs": [],
   "source": [
    "# 定义few_shot_template\n",
    "few_shot_template = FewShotChatMessagePromptTemplate(\n",
    "    example_prompt=example_prompt,\n",
    "    examples=examples,\n",
    ")"
   ]
  },
  {
   "cell_type": "code",
   "execution_count": 22,
   "id": "2e322fab",
   "metadata": {},
   "outputs": [],
   "source": [
    "final_prompt_template=ChatPromptTemplate.from_messages(\n",
    "    [\n",
    "        few_shot_template,\n",
    "        (\"human\",\"{input}\"),\n",
    "    ]\n",
    ")"
   ]
  },
  {
   "cell_type": "code",
   "execution_count": 23,
   "id": "9fe28231",
   "metadata": {},
   "outputs": [
    {
     "data": {
      "text/plain": [
       "[HumanMessage(content='格式化以下客户信息:\\n姓名 -> 张三\\n年龄 -> 27\\n城市 -> 长沙', additional_kwargs={}, response_metadata={}),\n",
       " AIMessage(content='##客户信息\\n- 客户姓名: 张三\\n- 客户年龄: 27岁\\n- 客户所在地: 湖南省长沙市', additional_kwargs={}, response_metadata={}),\n",
       " HumanMessage(content='格式化以下客户信息:\\n姓名 -> 李四\\n年龄 -> 42\\n城市 -> 广州', additional_kwargs={}, response_metadata={}),\n",
       " AIMessage(content='##客户信息\\n- 客户姓名: 李四\\n- 客户年龄: 42岁\\n- 客户所在地: 广东省广州市', additional_kwargs={}, response_metadata={}),\n",
       " HumanMessage(content='格式化以下客户信息:\\n姓名 -> 王五\\n年龄 -> 35\\n城市 -> 长沙', additional_kwargs={}, response_metadata={}),\n",
       " AIMessage(content='##客户信息\\n- 客户姓名: 王五\\n- 客户年龄: 35岁\\n- 客户所在地: 湖南省长沙市', additional_kwargs={}, response_metadata={}),\n",
       " HumanMessage(content='格式化以下客户信息:\\n姓名 -> 刘六\\n年龄 -> 28\\n城市 -> 南通', additional_kwargs={}, response_metadata={})]"
      ]
     },
     "execution_count": 23,
     "metadata": {},
     "output_type": "execute_result"
    }
   ],
   "source": [
    "final_prompt=final_prompt_template.invoke(\n",
    "    {\n",
    "        \"input\":\"格式化以下客户信息:\\n姓名 -> 刘六\\n年龄 -> 28\\n城市 -> 南通\"\n",
    "    }\n",
    ")\n",
    "final_prompt.to_messages()"
   ]
  },
  {
   "cell_type": "code",
   "execution_count": 24,
   "id": "09077132",
   "metadata": {},
   "outputs": [
    {
     "data": {
      "text/markdown": [
       "##客户信息  \n",
       "- 客户姓名: 刘六  \n",
       "- 客户年龄: 28岁  \n",
       "- 客户所在地: 江苏省南通市"
      ]
     },
     "metadata": {},
     "output_type": "display_data"
    }
   ],
   "source": [
    "response=model.invoke(\n",
    "    final_prompt\n",
    ")\n",
    "display_markdown(response.content,raw=True)"
   ]
  },
  {
   "cell_type": "code",
   "execution_count": null,
   "id": "861743f1",
   "metadata": {},
   "outputs": [],
   "source": []
  }
 ],
 "metadata": {
  "kernelspec": {
   "display_name": "langchain",
   "language": "python",
   "name": "python3"
  },
  "language_info": {
   "codemirror_mode": {
    "name": "ipython",
    "version": 3
   },
   "file_extension": ".py",
   "mimetype": "text/x-python",
   "name": "python",
   "nbconvert_exporter": "python",
   "pygments_lexer": "ipython3",
   "version": "3.10.18"
  }
 },
 "nbformat": 4,
 "nbformat_minor": 5
}

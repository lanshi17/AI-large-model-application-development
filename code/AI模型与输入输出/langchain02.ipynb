{
 "cells": [
  {
   "cell_type": "code",
   "execution_count": 26,
   "id": "d94a2ae8",
   "metadata": {},
   "outputs": [
    {
     "data": {
      "text/plain": [
       "True"
      ]
     },
     "execution_count": 26,
     "metadata": {},
     "output_type": "execute_result"
    }
   ],
   "source": [
    "import os\n",
    "from langchain_openai import ChatOpenAI\n",
    "from langchain.prompts import SystemMessagePromptTemplate,AIMessagePromptTemplate,HumanMessagePromptTemplate,ChatPromptTemplate\n",
    "from IPython.display import display,display_markdown\n",
    "from pydantic import SecretStr\n",
    "from langchain.schema.messages import (SystemMessage,HumanMessage)\n",
    "from dotenv import load_dotenv\n",
    "# 加载 .env 文件\n",
    "load_dotenv()"
   ]
  },
  {
   "cell_type": "code",
   "execution_count": 10,
   "id": "e22b5561",
   "metadata": {},
   "outputs": [
    {
     "data": {
      "text/plain": [
       "SystemMessagePromptTemplate(prompt=PromptTemplate(input_variables=['input_language', 'output_language'], input_types={}, partial_variables={}, template='你是一位专业翻译者,能够将{input_language}翻译成{output_language},并且输出文本会根据用户要求的任何语言风格进行调整.请只输出翻译后的文本,不要输出额外内容.'), additional_kwargs={})"
      ]
     },
     "metadata": {},
     "output_type": "display_data"
    },
    {
     "data": {
      "text/plain": [
       "['input_language', 'output_language']"
      ]
     },
     "metadata": {},
     "output_type": "display_data"
    }
   ],
   "source": [
    "system_template_text=\"你是一位专业翻译者,能够将{input_language}翻译成{output_language},并且输出文本会根据用户要求的任何语言风格进行调整.请只输出翻译后的文本,不要输出额外内容.\"\n",
    "\n",
    "system_prompt_template=SystemMessagePromptTemplate.from_template(system_template_text)\n",
    "\n",
    "display(system_prompt_template)\n",
    "display(system_prompt_template.input_variables)"
   ]
  },
  {
   "cell_type": "code",
   "execution_count": 11,
   "id": "a2624229",
   "metadata": {},
   "outputs": [],
   "source": [
    "human_template_text=\"文本:{text}\\n语言风格:{style}\"\n",
    "\n",
    "human_prompt_template=HumanMessagePromptTemplate.from_template(human_template_text)"
   ]
  },
  {
   "cell_type": "code",
   "execution_count": 28,
   "id": "af59fcf5",
   "metadata": {},
   "outputs": [],
   "source": [
    "system_prompt = system_prompt_template.format(input_language=\"英语\",output_language=\"汉语\")\n",
    "\n",
    "human_prompt=human_prompt_template.format(text=\"I'm miss you !\",style=\"诗词\")"
   ]
  },
  {
   "cell_type": "code",
   "execution_count": 14,
   "id": "af795c23",
   "metadata": {},
   "outputs": [],
   "source": [
    "model=ChatOpenAI(model=\"qwen-turbo\",\n",
    "                 api_key=SecretStr(os.getenv(\"DASHSCOPE_API_KEY\")),\n",
    "                 base_url=os.getenv(\"BASE_URL\"),\n",
    "                 temperature=0.3,\n",
    "                 frequency_penalty=1.5\n",
    "                )"
   ]
  },
  {
   "cell_type": "code",
   "execution_count": 29,
   "id": "74d4b712",
   "metadata": {},
   "outputs": [
    {
     "data": {
      "text/markdown": [
       "我心念你，如月缺难圆！"
      ]
     },
     "metadata": {},
     "output_type": "display_data"
    }
   ],
   "source": [
    "response=model.invoke([\n",
    "    system_prompt,\n",
    "    human_prompt\n",
    "])\n",
    "display_markdown(response.content,raw=True)"
   ]
  },
  {
   "cell_type": "code",
   "execution_count": 40,
   "id": "c645fda2",
   "metadata": {},
   "outputs": [],
   "source": [
    "prompt_template=ChatPromptTemplate.from_messages(\n",
    "    [\n",
    "        (\"system\",f\"{system_prompt_template.prompt.template}\"),\n",
    "        (\"human\",f\"{human_prompt_template.prompt.template}\")\n",
    "    ]\n",
    ")"
   ]
  },
  {
   "cell_type": "code",
   "execution_count": 54,
   "id": "4c58fd3c",
   "metadata": {},
   "outputs": [],
   "source": [
    "prompt_value=prompt_template.invoke(\n",
    "    {\n",
    "        \"input_language\":\"English\",\n",
    "        \"output_language\":\"汉语\",\n",
    "        \"text\":\"I'm do love you\",\n",
    "        \"style\":\"诗词\"\n",
    "    }\n",
    ")"
   ]
  },
  {
   "cell_type": "code",
   "execution_count": 55,
   "id": "b00ca8ff",
   "metadata": {},
   "outputs": [
    {
     "data": {
      "text/markdown": [
       "我心深爱于你"
      ]
     },
     "metadata": {},
     "output_type": "display_data"
    }
   ],
   "source": [
    "response=model.invoke(prompt_value)\n",
    "display_markdown(response.content,raw=True)"
   ]
  }
 ],
 "metadata": {
  "kernelspec": {
   "display_name": "langchain",
   "language": "python",
   "name": "python3"
  },
  "language_info": {
   "codemirror_mode": {
    "name": "ipython",
    "version": 3
   },
   "file_extension": ".py",
   "mimetype": "text/x-python",
   "name": "python",
   "nbconvert_exporter": "python",
   "pygments_lexer": "ipython3",
   "version": "3.10.18"
  }
 },
 "nbformat": 4,
 "nbformat_minor": 5
}

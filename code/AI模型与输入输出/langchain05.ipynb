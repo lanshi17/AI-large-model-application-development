{
 "cells": [
  {
   "cell_type": "code",
   "execution_count": 18,
   "id": "bc38bd45",
   "metadata": {},
   "outputs": [
    {
     "data": {
      "text/plain": [
       "True"
      ]
     },
     "execution_count": 18,
     "metadata": {},
     "output_type": "execute_result"
    }
   ],
   "source": [
    "import os\n",
    "from langchain_openai import ChatOpenAI\n",
    "from langchain.prompts import FewShotChatMessagePromptTemplate,ChatPromptTemplate\n",
    "from langchain.output_parsers import CommaSeparatedListOutputParser,PydanticOutputParser\n",
    "from pydantic import BaseModel,Field\n",
    "from typing import List\n",
    "from IPython.display import display,display_markdown,display_json\n",
    "from pydantic import SecretStr\n",
    "from dotenv import load_dotenv\n",
    "# 加载 .env 文件\n",
    "load_dotenv()"
   ]
  },
  {
   "cell_type": "code",
   "execution_count": 11,
   "id": "260f35ee",
   "metadata": {},
   "outputs": [],
   "source": [
    "model=ChatOpenAI(model=\"qwen-turbo\",\n",
    "                 api_key=SecretStr(os.getenv(\"DASHSCOPE_API_KEY\")),\n",
    "                 base_url=os.getenv(\"BASE_URL\"),\n",
    "                 temperature=0.3,\n",
    "                 frequency_penalty=1.5\n",
    "                )"
   ]
  },
  {
   "cell_type": "code",
   "execution_count": 12,
   "id": "bfb982e1",
   "metadata": {},
   "outputs": [],
   "source": [
    "class BookInfo(BaseModel):\n",
    "    book_name: str=Field(\n",
    "        description=\"书籍的名字\",\n",
    "        examples=\"百年孤独\"\n",
    "    )\n",
    "    author_name:str=Field(\n",
    "        description=\"书籍的作者\",\n",
    "        examples=\"加西亚-马克克斯\"\n",
    "          )\n",
    "    generes:List[str]=Field(\n",
    "        description=\"书籍的体裁\",\n",
    "        examples=[\"小说\",\"文学\"]\n",
    "    )"
   ]
  },
  {
   "cell_type": "code",
   "execution_count": 23,
   "id": "2053077b",
   "metadata": {},
   "outputs": [
    {
     "data": {
      "text/plain": [
       "'The output should be formatted as a JSON instance that conforms to the JSON schema below.\\n\\nAs an example, for the schema {\"properties\": {\"foo\": {\"title\": \"Foo\", \"description\": \"a list of strings\", \"type\": \"array\", \"items\": {\"type\": \"string\"}}}, \"required\": [\"foo\"]}\\nthe object {\"foo\": [\"bar\", \"baz\"]} is a well-formatted instance of the schema. The object {\"properties\": {\"foo\": [\"bar\", \"baz\"]}} is not well-formatted.\\n\\nHere is the output schema:\\n```\\n{\"properties\": {\"book_name\": {\"description\": \"书籍的名字\", \"examples\": \"百年孤独\", \"title\": \"Book Name\", \"type\": \"string\"}, \"author_name\": {\"description\": \"书籍的作者\", \"examples\": \"加西亚-马克克斯\", \"title\": \"Author Name\", \"type\": \"string\"}, \"generes\": {\"description\": \"书籍的体裁\", \"examples\": [\"小说\", \"文学\"], \"items\": {\"type\": \"string\"}, \"title\": \"Generes\", \"type\": \"array\"}}, \"required\": [\"book_name\", \"author_name\", \"generes\"]}\\n```'"
      ]
     },
     "metadata": {},
     "output_type": "display_data"
    }
   ],
   "source": [
    "output_parser=PydanticOutputParser(pydantic_object=BookInfo)\n",
    "parser_instructions=output_parser.get_format_instructions()\n",
    "display(output_parser.get_format_instructions())"
   ]
  },
  {
   "cell_type": "code",
   "execution_count": 14,
   "id": "66a4c133",
   "metadata": {},
   "outputs": [],
   "source": [
    "prompt=ChatPromptTemplate.from_messages([\n",
    "    (\"system\",\"{parser_instructions} 你输出的结果请使用中文\"),\n",
    "    (\"human\",\"请你帮我从书籍概述中,提取书名,作者,以及书籍的体裁.书籍概述会被三个#符号包围\\n###{book_introduction}###\")\n",
    "])"
   ]
  },
  {
   "cell_type": "code",
   "execution_count": 15,
   "id": "c1a289aa",
   "metadata": {},
   "outputs": [],
   "source": [
    "book_introduction=\"\"\" \n",
    "《明朝那些事儿》百科介绍\n",
    "基本信息\n",
    "书名：明朝那些事儿\n",
    "作者：当年明月（本名石悦）\n",
    "出版时间：2006年首次出版\n",
    "类别：历史小说、通俗历史读物\n",
    "篇幅：共九部，总计数百万字\n",
    "内容简介\n",
    "《明朝那些事儿》是一部以明朝历史为背景的长篇历史小说。它从1344年开始，一直讲述到1644年明朝灭亡，涵盖了将近三百年的时间跨度。书中以明朝十六位皇帝为核心，同时描绘了众多王公权贵、文臣武将以及普通小人物的命运，展现了明朝社会的复杂面貌。\n",
    "\n",
    "该书以严谨的史料为基础，结合生动的小说笔法，用幽默风趣的语言讲述了明朝的政治、军事、经济和文化等方面的历史事件。尤其对官场斗争、战争场面、帝王心术等内容着墨较多，使读者能够更加直观地理解历史人物的心理活动与时代背景。\n",
    "\n",
    "创作特点\n",
    "语言风格：轻松幽默，打破传统历史书籍的枯燥感，让历史变得有趣。\n",
    "叙事方式：以年代为主线，结合具体人物故事，穿插历史事件，形成全景式的历史画卷。\n",
    "史料基础：作者通过大量查阅正史资料（如《明史》《二十四史》等），确保内容在趣味性之外兼具一定的历史准确性。\n",
    "受众广泛：适合对历史感兴趣的大众读者，尤其是年轻群体，作为了解明朝历史的入门读物。\n",
    "社会影响\n",
    "《明朝那些事儿》自问世以来，广受读者欢迎，被誉为中国现代通俗历史文学的经典之作。\n",
    "它不仅在国内畅销多年，还被翻译成多种语言，在海外也拥有大量读者。\n",
    "该书的成功推动了“草根历史”写作潮流，激发了许多人对历史学习的兴趣。\n",
    "作者简介\n",
    "笔名：当年明月\n",
    "原名：石悦\n",
    "职业：作家、公务员\n",
    "代表作品：《明朝那些事儿》是其最著名的作品，也是他以业余时间创作的成果。\n",
    "相关评价\n",
    "正面评价：许多读者称赞该书将枯燥的历史变得生动有趣，易于理解，是一本“让人笑着学历史”的好书。\n",
    "批评观点：也有部分学者认为书中部分内容存在过度演绎或主观色彩较强的问题，建议将其视为“历史小说”而非完全意义上的学术著作。\n",
    "出版形式\n",
    "纸质书籍：分为多卷出版，涵盖整个明朝历史。\n",
    "电子书与有声书：由于市场需求大，该书也被制作成电子书及有声读物，方便不同人群阅读/收听。\n",
    "改编作品：已被改编为电视剧、广播剧等多种形式。\n",
    "总结\n",
    "《明朝那些事儿》以其独特的写作风格和深入浅出的历史解读方式，成为当代中国最受欢迎的历史类畅销书之一。它不仅让广大读者爱上历史，也为历史普及工作做出了重要贡献。\n",
    "\"\"\""
   ]
  },
  {
   "cell_type": "code",
   "execution_count": 24,
   "id": "5062af2b",
   "metadata": {},
   "outputs": [],
   "source": [
    "final_prompt=prompt.invoke({\n",
    "    \"book_introduction\":book_introduction,\n",
    "    \"parser_instructions\":parser_instructions\n",
    "})"
   ]
  },
  {
   "cell_type": "code",
   "execution_count": 25,
   "id": "40b2accd",
   "metadata": {},
   "outputs": [
    {
     "data": {
      "application/json": {
       "author_name": "当年明月",
       "book_name": "明朝那些事儿",
       "generes": [
        "历史小说",
        "通俗历史读物"
       ]
      }
     },
     "metadata": {},
     "output_type": "display_data"
    }
   ],
   "source": [
    "response=model.invoke(final_prompt)\n",
    "display_json(response.content,raw=True)"
   ]
  },
  {
   "cell_type": "code",
   "execution_count": 27,
   "id": "c460d9fb",
   "metadata": {},
   "outputs": [
    {
     "data": {
      "text/plain": [
       "BookInfo(book_name='明朝那些事儿', author_name='当年明月', generes=['历史小说', '通俗历史读物'])"
      ]
     },
     "metadata": {},
     "output_type": "display_data"
    }
   ],
   "source": [
    "result=output_parser.invoke(response)\n",
    "display(result)"
   ]
  },
  {
   "cell_type": "code",
   "execution_count": null,
   "id": "aba23789",
   "metadata": {},
   "outputs": [],
   "source": []
  }
 ],
 "metadata": {
  "kernelspec": {
   "display_name": "langchain",
   "language": "python",
   "name": "python3"
  },
  "language_info": {
   "codemirror_mode": {
    "name": "ipython",
    "version": 3
   },
   "file_extension": ".py",
   "mimetype": "text/x-python",
   "name": "python",
   "nbconvert_exporter": "python",
   "pygments_lexer": "ipython3",
   "version": "3.10.18"
  }
 },
 "nbformat": 4,
 "nbformat_minor": 5
}

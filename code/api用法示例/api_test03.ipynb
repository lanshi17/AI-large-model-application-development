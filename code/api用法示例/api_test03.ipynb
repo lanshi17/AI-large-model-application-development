{
 "cells": [
  {
   "cell_type": "code",
   "execution_count": 1,
   "id": "1aa9c9bf",
   "metadata": {},
   "outputs": [
    {
     "data": {
      "text/plain": [
       "True"
      ]
     },
     "execution_count": 1,
     "metadata": {},
     "output_type": "execute_result"
    }
   ],
   "source": [
    "import os\n",
    "from openai import OpenAI\n",
    "from dotenv import load_dotenv\n",
    "# 加载 .env 文件\n",
    "load_dotenv()"
   ]
  },
  {
   "cell_type": "code",
   "execution_count": 2,
   "id": "eb4c3a7c",
   "metadata": {},
   "outputs": [],
   "source": [
    "client = OpenAI(\n",
    "    # 若没有配置环境变量，请用百炼API Key将下行替换为：api_key=\"sk-xxx\",\n",
    "    api_key=os.getenv(\"DASHSCOPE_API_KEY\"),\n",
    "    base_url=\"https://dashscope.aliyuncs.com/compatible-mode/v1\",\n",
    ")"
   ]
  },
  {
   "cell_type": "code",
   "execution_count": 3,
   "id": "7d0e52c2",
   "metadata": {},
   "outputs": [],
   "source": [
    "def get_openai_response(client,prompt,model=\"qwen-turbo\"):\n",
    "    response=client.chat.completions.create(\n",
    "        model=model,\n",
    "        messages=[\n",
    "            {\"role\": \"user\",\"content\": prompt}\n",
    "        ],\n",
    "    )\n",
    "    return response.choices[0].message.content"
   ]
  },
  {
   "cell_type": "code",
   "execution_count": 4,
   "id": "3d6f2f4f",
   "metadata": {},
   "outputs": [],
   "source": [
    "q1=\"我刚买的xyz智能手表无法同步我的日历,我应该怎么办?\"\n",
    "q2=\"xyz智能手表的电池续航时间多久?每天使用会掉电快吗?\"\n",
    "q3=\"如何将手机上的音乐同步到xyz智能手表上播放?\"\n",
    "q4=\"xyz智能手表支持第三方应用吗?有哪些常用应用可以安装?\"\n",
    "q5=\"xyz智能手表的防水等级是多少?可以在游泳时佩戴吗?\"\n",
    "q6=\"如何更新xyz智能手表的系统固件?\"\n",
    "q7=\"xyz智能手表的血氧检测功能准确吗?有没有校准方法?\"\n",
    "q_list=[q1,q2,q3,q4,q4,q5,q6,q7]"
   ]
  },
  {
   "cell_type": "code",
   "execution_count": 5,
   "id": "e1644d2e",
   "metadata": {},
   "outputs": [],
   "source": [
    "category_list=[\"产品规格\",\"使用咨询\",\"功能比较\",\"用户反馈\",\"价格查询\",\"故障问题\",\"其他\"]"
   ]
  },
  {
   "cell_type": "code",
   "execution_count": 8,
   "id": "e5b9ccf7",
   "metadata": {},
   "outputs": [],
   "source": [
    "classify_prompt_template=\"\"\"\n",
    "你的任务是为用户对产品的疑问进行分类,类别应该是这些里面的其中一个:{categories},\n",
    "直接输出所属类别,不要有任何额外的描述或补充内容,\n",
    "用户的问题内容会以三个#符号进行包围.\n",
    "\n",
    "###\n",
    "{question}\n",
    "###\n",
    "\"\"\""
   ]
  },
  {
   "cell_type": "code",
   "execution_count": 9,
   "id": "41fce871",
   "metadata": {},
   "outputs": [
    {
     "name": "stdout",
     "output_type": "stream",
     "text": [
      "使用咨询\n",
      "产品规格\n",
      "使用咨询\n",
      "功能比较\n",
      "功能比较\n",
      "产品规格\n",
      "使用咨询\n",
      "使用咨询\n"
     ]
    }
   ],
   "source": [
    "for q in q_list:\n",
    "    formatted_prompt=classify_prompt_template.format(categories=\",\".join(category_list),question=q)\n",
    "    response=get_openai_response(client,formatted_prompt)\n",
    "    print(response)"
   ]
  },
  {
   "cell_type": "code",
   "execution_count": null,
   "id": "5ccdc36d",
   "metadata": {},
   "outputs": [],
   "source": []
  }
 ],
 "metadata": {
  "kernelspec": {
   "display_name": "ai",
   "language": "python",
   "name": "python3"
  },
  "language_info": {
   "codemirror_mode": {
    "name": "ipython",
    "version": 3
   },
   "file_extension": ".py",
   "mimetype": "text/x-python",
   "name": "python",
   "nbconvert_exporter": "python",
   "pygments_lexer": "ipython3",
   "version": "3.11.8"
  }
 },
 "nbformat": 4,
 "nbformat_minor": 5
}

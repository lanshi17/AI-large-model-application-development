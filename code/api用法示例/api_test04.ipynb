{
 "cells": [
  {
   "cell_type": "code",
   "execution_count": 2,
   "id": "1aa9c9bf",
   "metadata": {},
   "outputs": [
    {
     "data": {
      "text/plain": [
       "True"
      ]
     },
     "execution_count": 2,
     "metadata": {},
     "output_type": "execute_result"
    }
   ],
   "source": [
    "import os\n",
    "from openai import OpenAI\n",
    "from dotenv import load_dotenv\n",
    "# 加载 .env 文件\n",
    "load_dotenv()"
   ]
  },
  {
   "cell_type": "code",
   "execution_count": 3,
   "id": "eb4c3a7c",
   "metadata": {},
   "outputs": [],
   "source": [
    "client = OpenAI(\n",
    "    # 若没有配置环境变量，请用百炼API Key将下行替换为：api_key=\"sk-xxx\",\n",
    "    api_key=os.getenv(\"DASHSCOPE_API_KEY\"),\n",
    "    base_url=\"https://dashscope.aliyuncs.com/compatible-mode/v1\",\n",
    ")"
   ]
  },
  {
   "cell_type": "code",
   "execution_count": 4,
   "id": "7d0e52c2",
   "metadata": {},
   "outputs": [],
   "source": [
    "def get_openai_response(client,prompt,model=\"qwen-turbo\"):\n",
    "    response=client.chat.completions.create(\n",
    "        model=model,\n",
    "        messages=[\n",
    "            {\"role\": \"user\",\"content\": prompt}\n",
    "        ],\n",
    "    )\n",
    "    return response.choices[0].message.content"
   ]
  },
  {
   "cell_type": "code",
   "execution_count": 5,
   "id": "5ccdc36d",
   "metadata": {},
   "outputs": [],
   "source": [
    "translate_prompt=\"\"\"\n",
    "请将以下内容翻译成中文，要求翻译准确、自然、符合中文的表达习惯。\n",
    "\n",
    "输出格式为:\n",
    "```\n",
    "============\n",
    "原始消息(<文本的语言>):\n",
    "<原始消息>\n",
    "------------\n",
    "翻译消息:\n",
    "<翻译后的文本内容>\n",
    "============\n",
    "```\n",
    "来自用户的消息内容会以三个#符号进行包围.\n",
    "###\n",
    "{message}\n",
    "###\n",
    "\"\"\""
   ]
  },
  {
   "cell_type": "code",
   "execution_count": 7,
   "id": "f81c29ba",
   "metadata": {},
   "outputs": [
    {
     "name": "stdout",
     "output_type": "stream",
     "text": [
      "============\n",
      "原始消息(法语):\n",
      "Le temps est ensoleillé et chaud aujourd'hui, parfait pour une promenade dans le parc.\n",
      "------------\n",
      "翻译消息:\n",
      "今天的天气晴朗炎热，非常适合在公园里散步。\n",
      "============\n"
     ]
    }
   ],
   "source": [
    "message=input()\n",
    "print(get_openai_response(client,translate_prompt.format(message=message)))"
   ]
  }
 ],
 "metadata": {
  "kernelspec": {
   "display_name": "ai",
   "language": "python",
   "name": "python3"
  },
  "language_info": {
   "codemirror_mode": {
    "name": "ipython",
    "version": 3
   },
   "file_extension": ".py",
   "mimetype": "text/x-python",
   "name": "python",
   "nbconvert_exporter": "python",
   "pygments_lexer": "ipython3",
   "version": "3.11.8"
  }
 },
 "nbformat": 4,
 "nbformat_minor": 5
}

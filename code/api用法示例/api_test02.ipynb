{
 "cells": [
  {
   "cell_type": "code",
   "execution_count": 1,
   "id": "91257f4d",
   "metadata": {},
   "outputs": [
    {
     "data": {
      "text/plain": [
       "True"
      ]
     },
     "execution_count": 1,
     "metadata": {},
     "output_type": "execute_result"
    }
   ],
   "source": [
    "import os\n",
    "from openai import OpenAI\n",
    "from dotenv import load_dotenv\n",
    "# 加载 .env 文件\n",
    "load_dotenv()"
   ]
  },
  {
   "cell_type": "code",
   "execution_count": 2,
   "id": "93af76a7",
   "metadata": {},
   "outputs": [],
   "source": [
    "client = OpenAI(\n",
    "    # 若没有配置环境变量，请用百炼API Key将下行替换为：api_key=\"sk-xxx\",\n",
    "    api_key=os.getenv(\"DASHSCOPE_API_KEY\"),\n",
    "    base_url=\"https://dashscope.aliyuncs.com/compatible-mode/v1\",\n",
    ")"
   ]
  },
  {
   "cell_type": "code",
   "execution_count": 3,
   "id": "db97f011",
   "metadata": {},
   "outputs": [],
   "source": [
    "def get_openai_response(client,system_prompt,user_prompt,model=\"qwen-turbo\"):\n",
    "    response=client.chat.completions.create(\n",
    "        model=model,\n",
    "        messages=[\n",
    "            {\"role\": \"system\",\"content\":system_prompt},\n",
    "            {\"role\": \"user\",\"content\": user_prompt}\n",
    "        ],\n",
    "    )\n",
    "    return response.choices[0].message.content"
   ]
  },
  {
   "cell_type": "code",
   "execution_count": 4,
   "id": "072330e7",
   "metadata": {},
   "outputs": [],
   "source": [
    "system_prompt=\"\"\"\n",
    "你是小红书爆款写作专家，请你用以下步骤来进行创作，首先产出5个标题（含适当的emoji表情），其次产出1个正文（每一个段落含有适当的emoji表情，文末有合适的tag标签） \n",
    " 一、在小红书标题方面，你会以下技能： \n",
    " 1. 采用二极管标题法进行创作 \n",
    " 2. 你善于使用标题吸引人的特点 \n",
    " 3. 你使用爆款关键词，写标题时，从这个列表中随机选1-2个 \n",
    " 4. 你了解小红书平台的标题特性 \n",
    " 5. 你懂得创作的规则 \n",
    " 二、在小红书正文方面，你会以下技能： \n",
    " 1. 写作风格 \n",
    " 2. 写作开篇方法 \n",
    " 3. 文本结构 \n",
    " 4. 互动引导方法 \n",
    " 5. 一些小技巧 \n",
    " 6. 爆炸词 \n",
    " 7. 从你生成的稿子中，抽取3-6个seo关键词，生成#标签并放在文章最后 \n",
    " 8. 文章的每句话都尽量口语化、简短 \n",
    " 9. 在每段话的开头使用表情符号，在每段话的结尾使用表情符号，在每段话的中间插入表情符号 \n",
    " 三、结合我给你输入的信息，以及你掌握的标题和正文的技巧，产出内容。请按照如下格式输出内容，只需要格式描述的部分，如果产生其他内容则不输出： \n",
    " 一. 标题 \n",
    " [标题1到标题5] \n",
    " [换行] \n",
    " 二. 正文 \n",
    " [正文] \n",
    " 标签：[标签]\n",
    "\"\"\""
   ]
  },
  {
   "cell_type": "code",
   "execution_count": 6,
   "id": "c11e7cf0",
   "metadata": {},
   "outputs": [
    {
     "name": "stdout",
     "output_type": "stream",
     "text": [
      "一. 标题  \n",
      "[📚🔥学英语太难？这3个方法让我逆袭成口语达人！]  \n",
      "[💡✨每天10分钟，轻松掌握英语高频词！]  \n",
      "[🎯💥学英语不靠死记硬背，我竟然学会了！]  \n",
      "[💬🌟学英语也能这么有趣？你绝对想不到！]  \n",
      "[🚀🔥学英语的正确打开方式，90%的人都不知道！]  \n",
      "\n",
      "二. 正文  \n",
      "🧠💭学英语真的不是靠死记硬背，我之前也是这样，结果越学越累。后来我发现了一个超棒的方法，就是“沉浸式学习”，每天听英文歌、看美剧，不知不觉就记住了好多单词！🎵📺  \n",
      "\n",
      "🎧👀其实，英语学习最重要的就是“兴趣”和“坚持”。我以前觉得学英语很枯燥，但现在每天都很期待去练习。你可以从简单的开始，比如每天学5个新单词，然后用它们造句，慢慢就会有成就感啦！💯✍️  \n",
      "\n",
      "💡📌还有个小技巧，就是多和别人交流。不要怕说错，说出来才会进步。我现在每天都和外国朋友聊天，虽然有时候会卡壳，但每次都能学到新东西！🗣️💬  \n",
      "\n",
      "🌍📈学英语不只是为了考试，更是为了开阔眼界。现在我可以看懂英文新闻、听懂英文演讲，感觉整个人都变自信了！💪📖  \n",
      "\n",
      "🎉🌈最后想说，学英语没有捷径，但有方法。只要你愿意尝试，一定会看到成果！加油吧，我们一起进步！🚀✨  \n",
      "\n",
      "标签：#学英语 #英语学习 #英语口语 #英语技巧 #英语提升 #英语日常\n"
     ]
    }
   ],
   "source": [
    "print(get_openai_response(client=client,system_prompt=system_prompt,user_prompt=\"学英语\"))"
   ]
  },
  {
   "cell_type": "code",
   "execution_count": null,
   "id": "ac7df330",
   "metadata": {},
   "outputs": [],
   "source": []
  }
 ],
 "metadata": {
  "kernelspec": {
   "display_name": "ai",
   "language": "python",
   "name": "python3"
  },
  "language_info": {
   "codemirror_mode": {
    "name": "ipython",
    "version": 3
   },
   "file_extension": ".py",
   "mimetype": "text/x-python",
   "name": "python",
   "nbconvert_exporter": "python",
   "pygments_lexer": "ipython3",
   "version": "3.11.8"
  }
 },
 "nbformat": 4,
 "nbformat_minor": 5
}

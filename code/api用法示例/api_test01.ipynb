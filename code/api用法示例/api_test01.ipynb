{
 "cells": [
  {
   "cell_type": "code",
   "execution_count": 17,
   "id": "e636bfd3",
   "metadata": {},
   "outputs": [
    {
     "data": {
      "text/plain": [
       "True"
      ]
     },
     "execution_count": 17,
     "metadata": {},
     "output_type": "execute_result"
    }
   ],
   "source": [
    "import os\n",
    "from openai import OpenAI\n",
    "from dotenv import load_dotenv\n",
    "# 加载 .env 文件\n",
    "load_dotenv()"
   ]
  },
  {
   "cell_type": "code",
   "execution_count": 18,
   "id": "ba3ca1e4",
   "metadata": {},
   "outputs": [],
   "source": [
    "client = OpenAI(\n",
    "    # 若没有配置环境变量，请用百炼API Key将下行替换为：api_key=\"sk-xxx\",\n",
    "    api_key=os.getenv(\"DASHSCOPE_API_KEY\"),\n",
    "    base_url=\"https://dashscope.aliyuncs.com/compatible-mode/v1\",\n",
    ")"
   ]
  },
  {
   "cell_type": "code",
   "execution_count": 20,
   "id": "33cec6fa",
   "metadata": {},
   "outputs": [],
   "source": [
    "def get_openai_response(client,prompt,model=\"qwen-turbo\"):\n",
    "    response=client.chat.completions.create(\n",
    "        model=model,\n",
    "        messages=[\n",
    "            {\"role\":\"user\",\"content\":prompt}\n",
    "        ],\n",
    "    )\n",
    "    return response.choices[0].message.content"
   ]
  },
  {
   "cell_type": "code",
   "execution_count": 21,
   "id": "e85c44b3",
   "metadata": {},
   "outputs": [],
   "source": [
    "product_review=\"\"\"\n",
    "    这款手机整体表现非常不错，值得推荐！外观设计简约时尚，尤其是背面的渐变色处理，拿在手里特别有质感。屏幕显示效果也很出色，色彩鲜艳且清晰，看视频或玩游戏时沉浸感很强。性能方面，搭载了最新的处理器，运行流畅，多任务切换毫无压力，即使是大型游戏也能轻松应对。\n",
    "\n",
    "不过，有一点需要改进的是，电池续航能力在重度使用时略显不足，如果全天候使用社交媒体、拍照和看视频，可能需要随身携带充电宝。另外，虽然快充速度很快，但充电器需要额外购买，这一点稍显不便。\n",
    "\n",
    "相机表现令人惊喜，尤其是在光线充足的环境下拍摄的照片细节丰富，色彩还原真实。夜拍模式也有不错的表现，但偶尔会出现噪点问题。总体来说，这是一款性价比很高的手机，适合追求性能与颜值的用户。\n",
    "\"\"\""
   ]
  },
  {
   "cell_type": "code",
   "execution_count": 23,
   "id": "61d281f0",
   "metadata": {},
   "outputs": [],
   "source": [
    "product_review_prompt=f\"\"\"\n",
    "请根据以下用户评价，提取关键信息并进行简洁、客观的总结。总结应包括以下内容：\n",
    "用户对手机整体的满意度；\n",
    "优点（如外观、性能、拍照等）；\n",
    "不足之处（如续航、配件等）；\n",
    "最终推荐意见。\n",
    "用户的评价内容会以三个#符号进行包围.\n",
    "\n",
    "###\n",
    "{product_review}\n",
    "###\n",
    "\"\"\""
   ]
  },
  {
   "cell_type": "code",
   "execution_count": 24,
   "id": "ba022d3f",
   "metadata": {},
   "outputs": [
    {
     "name": "stdout",
     "output_type": "stream",
     "text": [
      "**用户评价总结：**\n",
      "\n",
      "- **整体满意度**：用户对手机整体表现非常满意，认为其值得推荐。  \n",
      "- **优点**：外观简约时尚，屏幕显示效果出色，性能强劲，运行流畅，相机在白天拍摄效果优秀，夜拍表现尚可。  \n",
      "- **不足之处**：电池续航在重度使用下不够持久，需搭配充电宝；快充配件需额外购买。  \n",
      "- **推荐意见**：适合追求性能与颜值的用户，性价比高，推荐购买。\n"
     ]
    }
   ],
   "source": [
    "print(get_openai_response(client=client,prompt=product_review_prompt))"
   ]
  },
  {
   "cell_type": "code",
   "execution_count": null,
   "id": "3bd55cf1",
   "metadata": {},
   "outputs": [],
   "source": []
  }
 ],
 "metadata": {
  "kernelspec": {
   "display_name": "ai",
   "language": "python",
   "name": "python3"
  },
  "language_info": {
   "codemirror_mode": {
    "name": "ipython",
    "version": 3
   },
   "file_extension": ".py",
   "mimetype": "text/x-python",
   "name": "python",
   "nbconvert_exporter": "python",
   "pygments_lexer": "ipython3",
   "version": "3.11.8"
  }
 },
 "nbformat": 4,
 "nbformat_minor": 5
}
